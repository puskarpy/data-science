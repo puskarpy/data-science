{
 "cells": [
  {
   "cell_type": "code",
   "execution_count": null,
   "id": "764cb352-6220-423a-ab80-8cccfa4d5e60",
   "metadata": {},
   "outputs": [],
   "source": []
  }
 ],
 "metadata": {
  "kernelspec": {
   "display_name": "",
   "name": ""
  },
  "language_info": {
   "name": ""
  }
 },
 "nbformat": 4,
 "nbformat_minor": 5
}
